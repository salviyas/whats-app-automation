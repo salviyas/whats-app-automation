{
 "cells": [
  {
   "cell_type": "code",
   "execution_count": 2,
   "id": "9738d1f9",
   "metadata": {},
   "outputs": [
    {
     "name": "stdout",
     "output_type": "stream",
     "text": [
      "Requirement already satisfied: openpyxl in c:\\users\\salvi\\anaconda3\\lib\\site-packages (3.0.10)\n",
      "Collecting selenium\n",
      "  Downloading selenium-4.23.1-py3-none-any.whl (9.4 MB)\n",
      "                                              0.0/9.4 MB ? eta -:--:--\n",
      "                                              0.0/9.4 MB 1.3 MB/s eta 0:00:08\n",
      "                                              0.1/9.4 MB 1.4 MB/s eta 0:00:07\n",
      "     -                                        0.3/9.4 MB 2.5 MB/s eta 0:00:04\n",
      "     --                                       0.6/9.4 MB 3.6 MB/s eta 0:00:03\n",
      "     ----                                     1.0/9.4 MB 4.6 MB/s eta 0:00:02\n",
      "     -----                                    1.4/9.4 MB 5.2 MB/s eta 0:00:02\n",
      "     -------                                  1.7/9.4 MB 5.4 MB/s eta 0:00:02\n",
      "     --------                                 2.0/9.4 MB 5.6 MB/s eta 0:00:02\n",
      "     ----------                               2.4/9.4 MB 5.8 MB/s eta 0:00:02\n",
      "     -----------                              2.7/9.4 MB 5.9 MB/s eta 0:00:02\n",
      "     ------------                             3.0/9.4 MB 6.0 MB/s eta 0:00:02\n",
      "     --------------                           3.3/9.4 MB 6.1 MB/s eta 0:00:02\n",
      "     ---------------                          3.7/9.4 MB 6.1 MB/s eta 0:00:01\n",
      "     ----------------                         4.0/9.4 MB 6.2 MB/s eta 0:00:01\n",
      "     ------------------                       4.3/9.4 MB 6.2 MB/s eta 0:00:01\n",
      "     -------------------                      4.6/9.4 MB 6.3 MB/s eta 0:00:01\n",
      "     --------------------                     4.9/9.4 MB 6.3 MB/s eta 0:00:01\n",
      "     ----------------------                   5.2/9.4 MB 6.3 MB/s eta 0:00:01\n",
      "     -----------------------                  5.6/9.4 MB 6.3 MB/s eta 0:00:01\n",
      "     ------------------------                 5.9/9.4 MB 6.4 MB/s eta 0:00:01\n",
      "     --------------------------               6.2/9.4 MB 6.4 MB/s eta 0:00:01\n",
      "     ---------------------------              6.5/9.4 MB 6.4 MB/s eta 0:00:01\n",
      "     ----------------------------             6.6/9.4 MB 6.4 MB/s eta 0:00:01\n",
      "     ----------------------------             6.6/9.4 MB 6.4 MB/s eta 0:00:01\n",
      "     ----------------------------             6.6/9.4 MB 6.4 MB/s eta 0:00:01\n",
      "     ----------------------------             6.6/9.4 MB 6.4 MB/s eta 0:00:01\n",
      "     --------------------------------         7.7/9.4 MB 6.1 MB/s eta 0:00:01\n",
      "     --------------------------------         7.8/9.4 MB 6.0 MB/s eta 0:00:01\n",
      "     ----------------------------------       8.2/9.4 MB 6.2 MB/s eta 0:00:01\n",
      "     ------------------------------------     8.6/9.4 MB 6.2 MB/s eta 0:00:01\n",
      "     -------------------------------------    8.9/9.4 MB 6.2 MB/s eta 0:00:01\n",
      "     --------------------------------------   9.0/9.4 MB 6.2 MB/s eta 0:00:01\n",
      "     --------------------------------------   9.0/9.4 MB 6.2 MB/s eta 0:00:01\n",
      "     --------------------------------------   9.0/9.4 MB 6.2 MB/s eta 0:00:01\n",
      "     ---------------------------------------- 9.4/9.4 MB 5.9 MB/s eta 0:00:00\n",
      "Requirement already satisfied: et_xmlfile in c:\\users\\salvi\\anaconda3\\lib\\site-packages (from openpyxl) (1.1.0)\n",
      "Requirement already satisfied: urllib3[socks]<3,>=1.26 in c:\\users\\salvi\\anaconda3\\lib\\site-packages (from selenium) (1.26.16)\n",
      "Collecting trio~=0.17 (from selenium)\n",
      "  Downloading trio-0.26.0-py3-none-any.whl (475 kB)\n",
      "                                              0.0/475.7 kB ? eta -:--:--\n",
      "     ----------------                       204.8/475.7 kB 6.3 MB/s eta 0:00:01\n",
      "     -------------------------------------- 475.7/475.7 kB 6.0 MB/s eta 0:00:00\n",
      "Collecting trio-websocket~=0.9 (from selenium)\n",
      "  Downloading trio_websocket-0.11.1-py3-none-any.whl (17 kB)\n",
      "Requirement already satisfied: certifi>=2021.10.8 in c:\\users\\salvi\\anaconda3\\lib\\site-packages (from selenium) (2023.5.7)\n",
      "Requirement already satisfied: typing_extensions~=4.9 in c:\\users\\salvi\\anaconda3\\lib\\site-packages (from selenium) (4.12.2)\n",
      "Collecting websocket-client~=1.8 (from selenium)\n",
      "  Downloading websocket_client-1.8.0-py3-none-any.whl (58 kB)\n",
      "                                              0.0/58.8 kB ? eta -:--:--\n",
      "     ---------------------------------------- 58.8/58.8 kB ? eta 0:00:00\n",
      "Collecting attrs>=23.2.0 (from trio~=0.17->selenium)\n",
      "  Downloading attrs-23.2.0-py3-none-any.whl (60 kB)\n",
      "                                              0.0/60.8 kB ? eta -:--:--\n",
      "     ---------------------------------------- 60.8/60.8 kB 3.2 MB/s eta 0:00:00\n",
      "Requirement already satisfied: sortedcontainers in c:\\users\\salvi\\anaconda3\\lib\\site-packages (from trio~=0.17->selenium) (2.4.0)\n",
      "Requirement already satisfied: idna in c:\\users\\salvi\\anaconda3\\lib\\site-packages (from trio~=0.17->selenium) (3.4)\n",
      "Collecting outcome (from trio~=0.17->selenium)\n",
      "  Downloading outcome-1.3.0.post0-py2.py3-none-any.whl (10 kB)\n",
      "Collecting sniffio>=1.3.0 (from trio~=0.17->selenium)\n",
      "  Downloading sniffio-1.3.1-py3-none-any.whl (10 kB)\n",
      "Requirement already satisfied: cffi>=1.14 in c:\\users\\salvi\\anaconda3\\lib\\site-packages (from trio~=0.17->selenium) (1.15.1)\n",
      "Collecting wsproto>=0.14 (from trio-websocket~=0.9->selenium)\n",
      "  Downloading wsproto-1.2.0-py3-none-any.whl (24 kB)\n",
      "Requirement already satisfied: PySocks!=1.5.7,<2.0,>=1.5.6 in c:\\users\\salvi\\anaconda3\\lib\\site-packages (from urllib3[socks]<3,>=1.26->selenium) (1.7.1)\n",
      "Requirement already satisfied: pycparser in c:\\users\\salvi\\anaconda3\\lib\\site-packages (from cffi>=1.14->trio~=0.17->selenium) (2.21)\n",
      "Collecting h11<1,>=0.9.0 (from wsproto>=0.14->trio-websocket~=0.9->selenium)\n",
      "  Downloading h11-0.14.0-py3-none-any.whl (58 kB)\n",
      "                                              0.0/58.3 kB ? eta -:--:--\n",
      "     ---------------------------------------- 58.3/58.3 kB ? eta 0:00:00\n",
      "Installing collected packages: websocket-client, sniffio, h11, attrs, wsproto, outcome, trio, trio-websocket, selenium\n",
      "  Attempting uninstall: websocket-client\n",
      "    Found existing installation: websocket-client 0.58.0\n",
      "    Uninstalling websocket-client-0.58.0:\n",
      "      Successfully uninstalled websocket-client-0.58.0\n",
      "  Attempting uninstall: sniffio\n",
      "    Found existing installation: sniffio 1.2.0\n",
      "    Uninstalling sniffio-1.2.0:\n",
      "      Successfully uninstalled sniffio-1.2.0\n",
      "  Attempting uninstall: attrs\n",
      "    Found existing installation: attrs 22.1.0\n",
      "    Uninstalling attrs-22.1.0:\n",
      "      Successfully uninstalled attrs-22.1.0\n",
      "Successfully installed attrs-23.2.0 h11-0.14.0 outcome-1.3.0.post0 selenium-4.23.1 sniffio-1.3.1 trio-0.26.0 trio-websocket-0.11.1 websocket-client-1.8.0 wsproto-1.2.0\n",
      "Note: you may need to restart the kernel to use updated packages.\n"
     ]
    }
   ],
   "source": [
    "pip install openpyxl selenium\n"
   ]
  },
  {
   "cell_type": "code",
   "execution_count": 3,
   "id": "088ca455",
   "metadata": {},
   "outputs": [
    {
     "name": "stdout",
     "output_type": "stream",
     "text": [
      "Requirement already satisfied: pywhatkit in c:\\users\\salvi\\anaconda3\\lib\\site-packages (5.4)\n",
      "Requirement already satisfied: Pillow in c:\\users\\salvi\\anaconda3\\lib\\site-packages (from pywhatkit) (9.4.0)\n",
      "Requirement already satisfied: pyautogui in c:\\users\\salvi\\anaconda3\\lib\\site-packages (from pywhatkit) (0.9.54)\n",
      "Requirement already satisfied: requests in c:\\users\\salvi\\anaconda3\\lib\\site-packages (from pywhatkit) (2.29.0)\n",
      "Requirement already satisfied: wikipedia in c:\\users\\salvi\\anaconda3\\lib\\site-packages (from pywhatkit) (1.4.0)\n",
      "Requirement already satisfied: Flask in c:\\users\\salvi\\anaconda3\\lib\\site-packages (from pywhatkit) (2.2.2)\n",
      "Requirement already satisfied: Werkzeug>=2.2.2 in c:\\users\\salvi\\anaconda3\\lib\\site-packages (from Flask->pywhatkit) (2.2.3)\n",
      "Requirement already satisfied: Jinja2>=3.0 in c:\\users\\salvi\\anaconda3\\lib\\site-packages (from Flask->pywhatkit) (3.1.2)\n",
      "Requirement already satisfied: itsdangerous>=2.0 in c:\\users\\salvi\\anaconda3\\lib\\site-packages (from Flask->pywhatkit) (2.0.1)\n",
      "Requirement already satisfied: click>=8.0 in c:\\users\\salvi\\anaconda3\\lib\\site-packages (from Flask->pywhatkit) (8.0.4)\n",
      "Requirement already satisfied: pymsgbox in c:\\users\\salvi\\anaconda3\\lib\\site-packages (from pyautogui->pywhatkit) (1.0.9)\n",
      "Requirement already satisfied: pytweening>=1.0.4 in c:\\users\\salvi\\anaconda3\\lib\\site-packages (from pyautogui->pywhatkit) (1.2.0)\n",
      "Requirement already satisfied: pyscreeze>=0.1.21 in c:\\users\\salvi\\anaconda3\\lib\\site-packages (from pyautogui->pywhatkit) (0.1.30)\n",
      "Requirement already satisfied: pygetwindow>=0.0.5 in c:\\users\\salvi\\anaconda3\\lib\\site-packages (from pyautogui->pywhatkit) (0.0.9)\n",
      "Requirement already satisfied: mouseinfo in c:\\users\\salvi\\anaconda3\\lib\\site-packages (from pyautogui->pywhatkit) (0.1.3)\n",
      "Requirement already satisfied: charset-normalizer<4,>=2 in c:\\users\\salvi\\anaconda3\\lib\\site-packages (from requests->pywhatkit) (2.0.4)\n",
      "Requirement already satisfied: idna<4,>=2.5 in c:\\users\\salvi\\anaconda3\\lib\\site-packages (from requests->pywhatkit) (3.4)\n",
      "Requirement already satisfied: urllib3<1.27,>=1.21.1 in c:\\users\\salvi\\anaconda3\\lib\\site-packages (from requests->pywhatkit) (1.26.16)\n",
      "Requirement already satisfied: certifi>=2017.4.17 in c:\\users\\salvi\\anaconda3\\lib\\site-packages (from requests->pywhatkit) (2023.5.7)\n",
      "Requirement already satisfied: beautifulsoup4 in c:\\users\\salvi\\anaconda3\\lib\\site-packages (from wikipedia->pywhatkit) (4.12.2)\n",
      "Requirement already satisfied: colorama in c:\\users\\salvi\\anaconda3\\lib\\site-packages (from click>=8.0->Flask->pywhatkit) (0.4.6)\n",
      "Requirement already satisfied: MarkupSafe>=2.0 in c:\\users\\salvi\\anaconda3\\lib\\site-packages (from Jinja2>=3.0->Flask->pywhatkit) (2.1.1)\n",
      "Requirement already satisfied: pyrect in c:\\users\\salvi\\anaconda3\\lib\\site-packages (from pygetwindow>=0.0.5->pyautogui->pywhatkit) (0.2.0)\n",
      "Requirement already satisfied: soupsieve>1.2 in c:\\users\\salvi\\anaconda3\\lib\\site-packages (from beautifulsoup4->wikipedia->pywhatkit) (2.4)\n",
      "Requirement already satisfied: pyperclip in c:\\users\\salvi\\anaconda3\\lib\\site-packages (from mouseinfo->pyautogui->pywhatkit) (1.9.0)\n",
      "Note: you may need to restart the kernel to use updated packages.\n"
     ]
    }
   ],
   "source": [
    "pip install pywhatkit\n"
   ]
  },
  {
   "cell_type": "code",
   "execution_count": 4,
   "id": "6baa2adb",
   "metadata": {},
   "outputs": [
    {
     "name": "stdout",
     "output_type": "stream",
     "text": [
      "In 51 Seconds WhatsApp will open and after 15 Seconds Message will be Delivered!\n",
      "Message scheduled for Severin\n",
      "In 105 Seconds WhatsApp will open and after 15 Seconds Message will be Delivered!\n",
      "Message scheduled for Aneesh\n",
      "In 105 Seconds WhatsApp will open and after 15 Seconds Message will be Delivered!\n",
      "Message scheduled for geo\n"
     ]
    }
   ],
   "source": [
    "import openpyxl\n",
    "import pywhatkit as kit\n",
    "import time\n",
    "\n",
    "\n",
    "workbook = openpyxl.load_workbook(\"C:/Users/salvi/Desktop/contacts.xlsx\")\n",
    "sheet = workbook.active\n",
    "\n",
    "\n",
    "def send_whatsapp_message(to, body):\n",
    "    \n",
    "    current_hour = time.localtime().tm_hour\n",
    "    current_minute = time.localtime().tm_min + 2\n",
    "    kit.sendwhatmsg(to, body, current_hour, current_minute)\n",
    "\n",
    "\n",
    "for row in sheet.iter_rows(min_row=2, values_only=True): \n",
    "    name, number = row\n",
    "    if name and number:\n",
    "        message_body = f'Hello {name}, this is a test message from Python!'\n",
    "        send_whatsapp_message(f'+{number}', message_body)\n",
    "        print(f'Message scheduled for {name}')\n",
    "\n",
    "\n"
   ]
  }
 ],
 "metadata": {
  "kernelspec": {
   "display_name": "Python 3 (ipykernel)",
   "language": "python",
   "name": "python3"
  },
  "language_info": {
   "codemirror_mode": {
    "name": "ipython",
    "version": 3
   },
   "file_extension": ".py",
   "mimetype": "text/x-python",
   "name": "python",
   "nbconvert_exporter": "python",
   "pygments_lexer": "ipython3",
   "version": "3.11.3"
  }
 },
 "nbformat": 4,
 "nbformat_minor": 5
}
